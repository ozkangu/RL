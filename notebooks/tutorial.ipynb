{
 "cells": [
  {
   "cell_type": "markdown",
   "metadata": {},
   "source": [
    "# 🚀 RL Trading Bot - Interactive Tutorial\n",
    "\n",
    "Welcome to the **BTC/USD Reinforcement Learning Trading Bot** interactive tutorial!\n",
    "\n",
    "This notebook will walk you through:\n",
    "1. 📊 **Data Loading & Exploration** - Load and visualize BTC data\n",
    "2. 🏋️ **Training Environment** - Understand the trading environment\n",
    "3. 🤖 **Training Quick Demo** - Train a model (quick version)\n",
    "4. 📈 **Evaluation & Results** - Analyze performance\n",
    "\n",
    "**Estimated time:** 15-20 minutes\n",
    "\n",
    "---"
   ]
  },
  {
   "cell_type": "markdown",
   "metadata": {},
   "source": [
    "## Setup\n",
    "\n",
    "First, let's import all necessary libraries and configure the environment."
   ]
  },
  {
   "cell_type": "code",
   "execution_count": null,
   "metadata": {},
   "outputs": [],
   "source": [
    "# Standard imports\n",
    "import sys\n",
    "import os\n",
    "import warnings\n",
    "warnings.filterwarnings('ignore')\n",
    "\n",
    "# Add project root to path\n",
    "project_root = os.path.abspath('..')\n",
    "if project_root not in sys.path:\n",
    "    sys.path.insert(0, project_root)\n",
    "\n",
    "# Data & ML libraries\n",
    "import pandas as pd\n",
    "import numpy as np\n",
    "import matplotlib.pyplot as plt\n",
    "import seaborn as sns\n",
    "\n",
    "# RL libraries\n",
    "from stable_baselines3 import PPO\n",
    "from stable_baselines3.common.vec_env import DummyVecEnv\n",
    "\n",
    "# Our custom modules\n",
    "from data_manager import load_data, add_technical_indicators, split_data\n",
    "from trading_env import BtcUsdTradingEnv\n",
    "\n",
    "# Visualization settings\n",
    "plt.style.use('seaborn-v0_8-darkgrid')\n",
    "sns.set_palette(\"husl\")\n",
    "%matplotlib inline\n",
    "\n",
    "print(\"✅ All imports successful!\")\n",
    "print(f\"📁 Project root: {project_root}\")"
   ]
  },
  {
   "cell_type": "markdown",
   "metadata": {},
   "source": [
    "---\n",
    "## 📊 Part 1: Data Loading & Exploration\n",
    "\n",
    "Let's load the sample BTC/USDT data and explore it."
   ]
  },
  {
   "cell_type": "code",
   "execution_count": null,
   "metadata": {},
   "outputs": [],
   "source": [
    "# Load sample data\n",
    "data_path = os.path.join(project_root, 'data', 'sample_btcusdt_1h.csv')\n",
    "print(f\"Loading data from: {data_path}\")\n",
    "\n",
    "df = load_data(data_path)\n",
    "\n",
    "print(f\"\\n✅ Loaded {len(df)} samples\")\n",
    "print(f\"📅 Date range: {df.index.min()} to {df.index.max()}\")\n",
    "print(f\"⏱️  Duration: {(df.index.max() - df.index.min()).days} days\")\n",
    "\n",
    "# Display first few rows\n",
    "df.head()"
   ]
  },
  {
   "cell_type": "markdown",
   "metadata": {},
   "source": [
    "### Price Statistics"
   ]
  },
  {
   "cell_type": "code",
   "execution_count": null,
   "metadata": {},
   "outputs": [],
   "source": [
    "# Calculate statistics\n",
    "stats = df['close'].describe()\n",
    "print(\"\\n💰 Price Statistics (USD):\")\n",
    "print(f\"  Min:    ${stats['min']:,.2f}\")\n",
    "print(f\"  Max:    ${stats['max']:,.2f}\")\n",
    "print(f\"  Mean:   ${stats['mean']:,.2f}\")\n",
    "print(f\"  Median: ${stats['50%']:,.2f}\")\n",
    "print(f\"  Std:    ${stats['std']:,.2f}\")\n",
    "\n",
    "# Calculate returns\n",
    "total_return = ((df['close'].iloc[-1] / df['close'].iloc[0]) - 1) * 100\n",
    "print(f\"\\n📈 Total Return: {total_return:.2f}%\")"
   ]
  },
  {
   "cell_type": "markdown",
   "metadata": {},
   "source": [
    "### Visualize Price Action"
   ]
  },
  {
   "cell_type": "code",
   "execution_count": null,
   "metadata": {},
   "outputs": [],
   "source": [
    "# Plot price\n",
    "fig, (ax1, ax2) = plt.subplots(2, 1, figsize=(14, 8))\n",
    "\n",
    "# Price chart\n",
    "ax1.plot(df.index, df['close'], linewidth=1.5, color='#2E86AB')\n",
    "ax1.set_title('BTC/USDT Price Action', fontsize=14, fontweight='bold')\n",
    "ax1.set_ylabel('Price (USD)', fontsize=12)\n",
    "ax1.grid(True, alpha=0.3)\n",
    "\n",
    "# Volume chart\n",
    "ax2.bar(df.index, df['volume'], width=0.03, color='#A23B72', alpha=0.6)\n",
    "ax2.set_title('Trading Volume', fontsize=14, fontweight='bold')\n",
    "ax2.set_ylabel('Volume (BTC)', fontsize=12)\n",
    "ax2.set_xlabel('Date', fontsize=12)\n",
    "ax2.grid(True, alpha=0.3)\n",
    "\n",
    "plt.tight_layout()\n",
    "plt.show()\n",
    "\n",
    "print(\"✅ Price visualization complete\")"
   ]
  },
  {
   "cell_type": "markdown",
   "metadata": {},
   "source": [
    "### Add Technical Indicators"
   ]
  },
  {
   "cell_type": "code",
   "execution_count": null,
   "metadata": {},
   "outputs": [],
   "source": [
    "# Add technical indicators\n",
    "print(\"Adding technical indicators...\")\n",
    "df_with_indicators = add_technical_indicators(df)\n",
    "\n",
    "print(f\"\\n✅ Added {len(df_with_indicators.columns) - 5} indicators\")\n",
    "print(f\"📊 Total features: {len(df_with_indicators.columns)}\")\n",
    "print(f\"\\nAvailable indicators:\")\n",
    "indicator_cols = [col for col in df_with_indicators.columns if col not in ['open', 'high', 'low', 'close', 'volume']]\n",
    "for col in indicator_cols[:10]:  # Show first 10\n",
    "    print(f\"  - {col}\")\n",
    "print(f\"  ... and {len(indicator_cols) - 10} more\")"
   ]
  },
  {
   "cell_type": "markdown",
   "metadata": {},
   "source": [
    "### Visualize Technical Indicators"
   ]
  },
  {
   "cell_type": "code",
   "execution_count": null,
   "metadata": {},
   "outputs": [],
   "source": [
    "# Plot RSI and MACD\n",
    "fig, (ax1, ax2, ax3) = plt.subplots(3, 1, figsize=(14, 10), sharex=True)\n",
    "\n",
    "# Price with Bollinger Bands\n",
    "ax1.plot(df_with_indicators.index, df_with_indicators['close'], label='Close', linewidth=1.5)\n",
    "ax1.plot(df_with_indicators.index, df_with_indicators['bb_high'], label='BB High', linestyle='--', alpha=0.7)\n",
    "ax1.plot(df_with_indicators.index, df_with_indicators['bb_low'], label='BB Low', linestyle='--', alpha=0.7)\n",
    "ax1.fill_between(df_with_indicators.index, df_with_indicators['bb_low'], df_with_indicators['bb_high'], alpha=0.1)\n",
    "ax1.set_ylabel('Price (USD)')\n",
    "ax1.set_title('Price with Bollinger Bands', fontweight='bold')\n",
    "ax1.legend()\n",
    "ax1.grid(True, alpha=0.3)\n",
    "\n",
    "# RSI\n",
    "ax2.plot(df_with_indicators.index, df_with_indicators['rsi_14'], color='purple', linewidth=1.5)\n",
    "ax2.axhline(y=70, color='r', linestyle='--', alpha=0.5, label='Overbought')\n",
    "ax2.axhline(y=30, color='g', linestyle='--', alpha=0.5, label='Oversold')\n",
    "ax2.set_ylabel('RSI')\n",
    "ax2.set_title('RSI (14)', fontweight='bold')\n",
    "ax2.legend()\n",
    "ax2.grid(True, alpha=0.3)\n",
    "\n",
    "# MACD\n",
    "ax3.plot(df_with_indicators.index, df_with_indicators['macd'], label='MACD', linewidth=1.5)\n",
    "ax3.plot(df_with_indicators.index, df_with_indicators['macd_signal'], label='Signal', linewidth=1.5)\n",
    "ax3.bar(df_with_indicators.index, df_with_indicators['macd_diff'], label='Histogram', alpha=0.3)\n",
    "ax3.set_ylabel('MACD')\n",
    "ax3.set_xlabel('Date')\n",
    "ax3.set_title('MACD', fontweight='bold')\n",
    "ax3.legend()\n",
    "ax3.grid(True, alpha=0.3)\n",
    "\n",
    "plt.tight_layout()\n",
    "plt.show()\n",
    "\n",
    "print(\"✅ Technical indicators visualized\")"
   ]
  },
  {
   "cell_type": "markdown",
   "metadata": {},
   "source": [
    "---\n",
    "## 🏋️ Part 2: Trading Environment\n",
    "\n",
    "Let's explore the custom Gymnasium trading environment."
   ]
  },
  {
   "cell_type": "code",
   "execution_count": null,
   "metadata": {},
   "outputs": [],
   "source": [
    "# Split data\n",
    "train_df, val_df, test_df = split_data(df_with_indicators, train_ratio=0.6, val_ratio=0.2)\n",
    "\n",
    "print(f\"📊 Data Split:\")\n",
    "print(f\"  Train: {len(train_df)} samples ({len(train_df)/len(df_with_indicators)*100:.1f}%)\")\n",
    "print(f\"  Val:   {len(val_df)} samples ({len(val_df)/len(df_with_indicators)*100:.1f}%)\")\n",
    "print(f\"  Test:  {len(test_df)} samples ({len(test_df)/len(df_with_indicators)*100:.1f}%)\")"
   ]
  },
  {
   "cell_type": "code",
   "execution_count": null,
   "metadata": {},
   "outputs": [],
   "source": [
    "# Create environment\n",
    "env = BtcUsdTradingEnv(\n",
    "    df=train_df,\n",
    "    window_size=24,\n",
    "    initial_cash=10000.0,\n",
    "    transaction_cost=0.001,\n",
    "    slippage=0.0005,\n",
    "    max_steps=100  # Short for demo\n",
    ")\n",
    "\n",
    "print(\"\\n✅ Environment created!\")\n",
    "print(f\"\\n📋 Environment Specs:\")\n",
    "print(f\"  Action space: {env.action_space}\")\n",
    "print(f\"  Observation space: {env.observation_space}\")\n",
    "print(f\"  Initial cash: ${env.initial_cash:,.2f}\")\n",
    "print(f\"  Transaction cost: {env.transaction_cost*100:.2f}%\")\n",
    "print(f\"  Slippage: {env.slippage*100:.3f}%\")"
   ]
  },
  {
   "cell_type": "markdown",
   "metadata": {},
   "source": [
    "### Test Environment with Random Actions"
   ]
  },
  {
   "cell_type": "code",
   "execution_count": null,
   "metadata": {},
   "outputs": [],
   "source": [
    "# Run a random agent to test environment\n",
    "obs = env.reset()\n",
    "portfolio_values = []\n",
    "actions = []\n",
    "\n",
    "print(\"Running random agent for 50 steps...\\n\")\n",
    "\n",
    "for i in range(50):\n",
    "    # Take random action\n",
    "    action = env.action_space.sample()\n",
    "    obs, reward, done, info = env.step(action)\n",
    "    \n",
    "    portfolio_values.append(info['portfolio_value'])\n",
    "    actions.append(action)\n",
    "    \n",
    "    if done:\n",
    "        break\n",
    "\n",
    "print(f\"✅ Completed {len(portfolio_values)} steps\")\n",
    "print(f\"\\n📊 Random Agent Results:\")\n",
    "print(f\"  Initial value: ${10000:.2f}\")\n",
    "print(f\"  Final value: ${portfolio_values[-1]:.2f}\")\n",
    "print(f\"  Return: {(portfolio_values[-1]/10000 - 1)*100:.2f}%\")"
   ]
  },
  {
   "cell_type": "code",
   "execution_count": null,
   "metadata": {},
   "outputs": [],
   "source": [
    "# Plot random agent performance\n",
    "plt.figure(figsize=(12, 5))\n",
    "plt.plot(portfolio_values, linewidth=2)\n",
    "plt.axhline(y=10000, color='r', linestyle='--', alpha=0.5, label='Initial Value')\n",
    "plt.xlabel('Step')\n",
    "plt.ylabel('Portfolio Value ($)')\n",
    "plt.title('Random Agent Portfolio Performance', fontweight='bold')\n",
    "plt.legend()\n",
    "plt.grid(True, alpha=0.3)\n",
    "plt.tight_layout()\n",
    "plt.show()\n",
    "\n",
    "print(\"✅ Random agent test complete!\")"
   ]
  },
  {
   "cell_type": "markdown",
   "metadata": {},
   "source": [
    "---\n",
    "## 🤖 Part 3: Train RL Agent (Quick Demo)\n",
    "\n",
    "Now let's train a PPO agent! We'll use a very small number of timesteps for demo purposes."
   ]
  },
  {
   "cell_type": "code",
   "execution_count": null,
   "metadata": {},
   "outputs": [],
   "source": [
    "# Create vectorized environment\n",
    "train_env = DummyVecEnv([lambda: BtcUsdTradingEnv(\n",
    "    df=train_df,\n",
    "    window_size=24,\n",
    "    initial_cash=10000.0,\n",
    "    transaction_cost=0.001,\n",
    "    slippage=0.0005,\n",
    "    max_steps=200\n",
    ")])\n",
    "\n",
    "print(\"✅ Training environment ready\")"
   ]
  },
  {
   "cell_type": "code",
   "execution_count": null,
   "metadata": {},
   "outputs": [],
   "source": [
    "# Initialize PPO agent\n",
    "model = PPO(\n",
    "    policy='MlpPolicy',\n",
    "    env=train_env,\n",
    "    learning_rate=0.0003,\n",
    "    n_steps=512,\n",
    "    batch_size=64,\n",
    "    gamma=0.99,\n",
    "    verbose=1,\n",
    "    seed=42\n",
    ")\n",
    "\n",
    "print(\"\\n✅ PPO agent initialized\")\n",
    "print(\"\\n⚠️  Note: This is a VERY quick demo training.\")\n",
    "print(\"For real results, use: python train.py (200k timesteps)\")"
   ]
  },
  {
   "cell_type": "code",
   "execution_count": null,
   "metadata": {},
   "outputs": [],
   "source": [
    "# Train (very short for demo)\n",
    "print(\"\\n🏋️ Training for 2000 timesteps (demo)...\\n\")\n",
    "\n",
    "model.learn(total_timesteps=2000, progress_bar=True)\n",
    "\n",
    "print(\"\\n✅ Training complete!\")"
   ]
  },
  {
   "cell_type": "markdown",
   "metadata": {},
   "source": [
    "---\n",
    "## 📈 Part 4: Evaluation & Results\n",
    "\n",
    "Let's evaluate our trained agent on test data."
   ]
  },
  {
   "cell_type": "code",
   "execution_count": null,
   "metadata": {},
   "outputs": [],
   "source": [
    "# Create test environment\n",
    "test_env = BtcUsdTradingEnv(\n",
    "    df=test_df,\n",
    "    window_size=24,\n",
    "    initial_cash=10000.0,\n",
    "    transaction_cost=0.001,\n",
    "    slippage=0.0005,\n",
    "    max_steps=None  # Use all test data\n",
    ")\n",
    "\n",
    "print(\"✅ Test environment created\")"
   ]
  },
  {
   "cell_type": "code",
   "execution_count": null,
   "metadata": {},
   "outputs": [],
   "source": [
    "# Run evaluation\n",
    "obs = test_env.reset()\n",
    "done = False\n",
    "\n",
    "portfolio_values = []\n",
    "actions = []\n",
    "prices = []\n",
    "\n",
    "print(\"Running trained agent on test data...\\n\")\n",
    "\n",
    "while not done:\n",
    "    action, _states = model.predict(obs, deterministic=True)\n",
    "    obs, reward, done, info = test_env.step(action)\n",
    "    \n",
    "    portfolio_values.append(info['portfolio_value'])\n",
    "    actions.append(int(action))\n",
    "    prices.append(info['current_price'])\n",
    "\n",
    "print(f\"✅ Evaluation complete: {len(portfolio_values)} steps\")\n",
    "\n",
    "# Calculate metrics\n",
    "final_value = portfolio_values[-1]\n",
    "total_return = (final_value / 10000 - 1) * 100\n",
    "\n",
    "print(f\"\\n📊 RL Agent Performance:\")\n",
    "print(f\"  Initial value: $10,000.00\")\n",
    "print(f\"  Final value: ${final_value:.2f}\")\n",
    "print(f\"  Total return: {total_return:.2f}%\")\n",
    "print(f\"  Total trades: {sum(1 for a in actions if a != 0)}\")"
   ]
  },
  {
   "cell_type": "markdown",
   "metadata": {},
   "source": [
    "### Visualize Agent Performance"
   ]
  },
  {
   "cell_type": "code",
   "execution_count": null,
   "metadata": {},
   "outputs": [],
   "source": [
    "# Plot results\n",
    "fig, (ax1, ax2) = plt.subplots(2, 1, figsize=(14, 10), sharex=True)\n",
    "\n",
    "# Portfolio value\n",
    "ax1.plot(portfolio_values, linewidth=2, color='#2E86AB', label='RL Agent')\n",
    "ax1.axhline(y=10000, color='r', linestyle='--', alpha=0.5, label='Initial Value')\n",
    "ax1.set_ylabel('Portfolio Value ($)', fontsize=12)\n",
    "ax1.set_title('RL Agent Portfolio Performance', fontsize=14, fontweight='bold')\n",
    "ax1.legend()\n",
    "ax1.grid(True, alpha=0.3)\n",
    "\n",
    "# Price with actions\n",
    "ax2.plot(prices, linewidth=1.5, color='black', alpha=0.7, label='BTC Price')\n",
    "\n",
    "# Mark buy/sell points\n",
    "buy_points = [i for i, a in enumerate(actions) if a == 1]\n",
    "sell_points = [i for i, a in enumerate(actions) if a == 2]\n",
    "\n",
    "if buy_points:\n",
    "    ax2.scatter(buy_points, [prices[i] for i in buy_points], \n",
    "               color='green', marker='^', s=100, label='Buy', zorder=5)\n",
    "if sell_points:\n",
    "    ax2.scatter(sell_points, [prices[i] for i in sell_points], \n",
    "               color='red', marker='v', s=100, label='Sell', zorder=5)\n",
    "\n",
    "ax2.set_xlabel('Time Step', fontsize=12)\n",
    "ax2.set_ylabel('Price (USD)', fontsize=12)\n",
    "ax2.set_title('Trading Actions', fontsize=14, fontweight='bold')\n",
    "ax2.legend()\n",
    "ax2.grid(True, alpha=0.3)\n",
    "\n",
    "plt.tight_layout()\n",
    "plt.show()\n",
    "\n",
    "print(\"✅ Visualization complete!\")"
   ]
  },
  {
   "cell_type": "markdown",
   "metadata": {},
   "source": [
    "### Compare with Buy & Hold"
   ]
  },
  {
   "cell_type": "code",
   "execution_count": null,
   "metadata": {},
   "outputs": [],
   "source": [
    "# Calculate Buy & Hold performance\n",
    "first_price = prices[0]\n",
    "btc_amount = (10000 * 0.999) / first_price  # After transaction cost\n",
    "bh_values = [btc_amount * p for p in prices]\n",
    "bh_final = bh_values[-1] * 0.999  # After selling cost\n",
    "bh_return = (bh_final / 10000 - 1) * 100\n",
    "\n",
    "print(\"📊 Comparison:\")\n",
    "print(f\"\\n  RL Agent:\")\n",
    "print(f\"    Return: {total_return:.2f}%\")\n",
    "print(f\"    Final: ${final_value:.2f}\")\n",
    "print(f\"\\n  Buy & Hold:\")\n",
    "print(f\"    Return: {bh_return:.2f}%\")\n",
    "print(f\"    Final: ${bh_final:.2f}\")\n",
    "print(f\"\\n  Difference: {total_return - bh_return:.2f}%\")\n",
    "\n",
    "if total_return > bh_return:\n",
    "    print(\"\\n✅ RL Agent BEATS Buy & Hold! 🎉\")\n",
    "else:\n",
    "    print(\"\\n⚠️  RL Agent underperforms Buy & Hold\")\n",
    "    print(\"   (This is expected with only 2000 training timesteps)\")\n",
    "    print(\"   Try full training: python train.py\")"
   ]
  },
  {
   "cell_type": "markdown",
   "metadata": {},
   "source": [
    "### Plot Comparison"
   ]
  },
  {
   "cell_type": "code",
   "execution_count": null,
   "metadata": {},
   "outputs": [],
   "source": [
    "# Plot comparison\n",
    "plt.figure(figsize=(14, 6))\n",
    "\n",
    "rl_returns = [(v / 10000 - 1) * 100 for v in portfolio_values]\n",
    "bh_returns = [(v / 10000 - 1) * 100 for v in bh_values]\n",
    "\n",
    "plt.plot(rl_returns, linewidth=2, label='RL Agent', color='#2E86AB')\n",
    "plt.plot(bh_returns, linewidth=2, label='Buy & Hold', color='#F18F01')\n",
    "plt.axhline(y=0, color='black', linestyle='--', alpha=0.3)\n",
    "\n",
    "plt.xlabel('Time Step', fontsize=12)\n",
    "plt.ylabel('Return (%)', fontsize=12)\n",
    "plt.title('RL Agent vs Buy & Hold Strategy', fontsize=14, fontweight='bold')\n",
    "plt.legend(fontsize=11)\n",
    "plt.grid(True, alpha=0.3)\n",
    "plt.tight_layout()\n",
    "plt.show()\n",
    "\n",
    "print(\"✅ Comparison visualization complete!\")"
   ]
  },
  {
   "cell_type": "markdown",
   "metadata": {},
   "source": [
    "---\n",
    "## 🎓 Summary & Next Steps\n",
    "\n",
    "### What You Learned:\n",
    "\n",
    "1. ✅ **Data Pipeline** - Loading, cleaning, and adding technical indicators\n",
    "2. ✅ **Trading Environment** - Custom Gymnasium environment with realistic costs\n",
    "3. ✅ **RL Training** - PPO algorithm for trading strategy learning\n",
    "4. ✅ **Evaluation** - Comparing RL agent with baseline strategies\n",
    "\n",
    "### ⚠️ Important Notes:\n",
    "\n",
    "- This notebook uses **minimal training** (2000 timesteps) for demonstration\n",
    "- Real training requires **200,000+ timesteps** (2-4 hours)\n",
    "- Results shown here are **NOT production quality**\n",
    "\n",
    "### 🚀 Next Steps:\n",
    "\n",
    "1. **Full Training:**\n",
    "   ```bash\n",
    "   python train.py\n",
    "   ```\n",
    "\n",
    "2. **Comprehensive Evaluation:**\n",
    "   ```bash\n",
    "   python evaluate.py --model ckpts/best_model/best_model.zip\n",
    "   ```\n",
    "\n",
    "3. **Experiment with Configs:**\n",
    "   - Modify `configs/training.yaml` for different hyperparameters\n",
    "   - Try `configs/env.yaml` for different trading costs\n",
    "   - Adjust `configs/features.yaml` for different indicators\n",
    "\n",
    "4. **Real Data:**\n",
    "   ```bash\n",
    "   python fetch_data.py --days 365\n",
    "   ```\n",
    "\n",
    "5. **Quick Start:**\n",
    "   ```bash\n",
    "   python quickstart.py --mode full\n",
    "   ```\n",
    "\n",
    "---\n",
    "\n",
    "### 📚 Additional Resources:\n",
    "\n",
    "- **README.md** - Complete documentation\n",
    "- **DATA_FETCHING.md** - Binance data fetching guide\n",
    "- **TRAINING_GUIDE.md** - Detailed training instructions\n",
    "\n",
    "---\n",
    "\n",
    "**Happy Trading! 📈**"
   ]
  }
 ],
 "metadata": {
  "kernelspec": {
   "display_name": "Python 3",
   "language": "python",
   "name": "python3"
  },
  "language_info": {
   "codemirror_mode": {
    "name": "ipython",
    "version": 3
   },
   "file_extension": ".py",
   "mimetype": "text/x-python",
   "name": "python",
   "nbconvert_exporter": "python",
   "pygments_lexer": "ipython3",
   "version": "3.9.0"
  }
 },
 "nbformat": 4,
 "nbformat_minor": 4
}
